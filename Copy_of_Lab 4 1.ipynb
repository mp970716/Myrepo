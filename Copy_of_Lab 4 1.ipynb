{
  "nbformat": 4,
  "nbformat_minor": 0,
  "metadata": {
    "colab": {
      "name": "Copy of Untitled1.ipynb",
      "provenance": [],
      "authorship_tag": "ABX9TyMODd0D5fjY409KXmC/ZLZl",
      "include_colab_link": true
    },
    "kernelspec": {
      "name": "python3",
      "display_name": "Python 3"
    }
  },
  "cells": [
    {
      "cell_type": "markdown",
      "metadata": {
        "id": "view-in-github",
        "colab_type": "text"
      },
      "source": [
        "<a href=\"https://colab.research.google.com/github/mp970716/Myrepo/blob/master/Copy_of_Lab%204%201.ipynb\" target=\"_parent\"><img src=\"https://colab.research.google.com/assets/colab-badge.svg\" alt=\"Open In Colab\"/></a>"
      ]
    },
    {
      "cell_type": "code",
      "metadata": {
        "id": "RYH6P4ZReij-",
        "colab_type": "code",
        "outputId": "9fb04afc-4c19-4d1b-8e2a-f29eb338665b",
        "colab": {
          "base_uri": "https://localhost:8080/",
          "height": 130
        }
      },
      "source": [
        "# Defining Function\n",
        "def f(x):\n",
        "return x**3-5*x-9\n",
        "# Implementing Bisection Method\n",
        "def bisection(x0,x1,e):\n",
        "step = 1\n",
        "print('\\n\\n*** BISECTION METHOD IMPLEMENTATION ***')\n",
        "condition = True\n",
        "while condition:\n",
        "x2 = (x0 + x1)/2\n",
        "print('Iteration-%d, x2 = %0.6f and f(x2) = %0.6f' % (step, x2, f(x2)))\n",
        "if f(x0) * f(x2) < 0:\n",
        "x1 = x2\n",
        "else:\n",
        "x0 = x2\n",
        "step = step + 1\n",
        "condition = abs(f(x2)) > e\n",
        "print('\\nRequired Root is : %0.8f' % x2)\n",
        "\n",
        "condition1= abs(f(x1))>e\n",
        "condition2= step<N\n",
        "condition3= abs(xhelp)>ex\n",
        "condition= condition1 and condition2 and condition3 \n",
        "\n",
        "# Input Section\n",
        "x0 = input('First Guess: ')\n",
        "x1 = input('Second Guess: ')\n",
        "e = input('Tolerable Error: ')\n",
        "# Converting input to float\n",
        "x0 = float(x0)\n",
        "x1 = float(x1)\n",
        "e = float(e)\n",
        "#Note: You can combine above two section like this\n",
        "# x0 = float(input('First Guess: '))\n",
        "# x1 = float(input('Second Guess: '))\n",
        "# e = float(input('Tolerable Error: '))\n",
        "\n",
        "# Checking Correctness of initial guess values and bisecting\n",
        "if f(x0) * f(x1) > 0.0:\n",
        "print('Given guess values do not bracket the root.')\n",
        "print('Try Again with different guess values.')\n",
        "else\n",
        "bisection(x0,x1,e)\n"
      ],
      "execution_count": 0,
      "outputs": [
        {
          "output_type": "error",
          "ename": "IndentationError",
          "evalue": "ignored",
          "traceback": [
            "\u001b[0;36m  File \u001b[0;32m\"<ipython-input-2-1eae6509e22a>\"\u001b[0;36m, line \u001b[0;32m3\u001b[0m\n\u001b[0;31m    return x**3-5*x-9\u001b[0m\n\u001b[0m         ^\u001b[0m\n\u001b[0;31mIndentationError\u001b[0m\u001b[0;31m:\u001b[0m expected an indented block\n"
          ]
        }
      ]
    },
    {
      "cell_type": "code",
      "metadata": {
        "id": "9FG-OyNgeoOm",
        "colab_type": "code",
        "outputId": "80437a83-24a3-48a7-a639-aa729872cf85",
        "colab": {
          "base_uri": "https://localhost:8080/",
          "height": 130
        }
      },
      "source": [
        "# Fixed Point Iteration Method\n",
        "# Importing math to use sqrt function\n",
        "import math\n",
        "def f(x):\n",
        "return x*x*x + x*x -1\n",
        "# Re-writing f(x)=0 to x = g(x)\n",
        "def g(x):\n",
        "return 1/math.sqrt(1+x)\n",
        "# Implementing Fixed Point Iteration Method\n",
        "def fixedPointIteration(x0, e, N):\n",
        "print('\\n\\n*** FIXED POINT ITERATION ***')\n",
        "step = 1\n",
        "flag = 1\n",
        "condition = True\n",
        "while condition:\n",
        "x1 = g(x0)\n",
        "print('Iteration-%d, x1 = %0.6f and f(x1) = %0.6f' % (step, x1, f(x1)))\n",
        "x0 = x1\n",
        "step = step + 1\n",
        "if step > N:\n",
        "flag=0\n",
        "break\n",
        "condition = abs(f(x1)) > e\n",
        "if flag==1:\n",
        "print('\\nRequired root is: %0.8f' % x1)\n",
        "else:\n",
        "print('\\nNot Convergent.')\n",
        "Fixed Point Iteration Algorithm\n",
        "\n",
        "condition1= abs(f(x1))>e\n",
        "condition2= step<N\n",
        "condition3= abs(xhelp)>ex\n",
        "condition= condition1 and condition2 and condition3 \n",
        "\n",
        "# Input Section\n",
        "x0 = input('Enter Guess: ')\n",
        "e = input('Tolerable Error: ')\n",
        "N = input('Maximum Step: ')\n",
        "# Converting x0 and e to float\n",
        "x0 = float(x0)\n",
        "e = float(e)\n",
        "# Converting N to integer\n",
        "N = int(N)\n",
        "#Note: You can combine above three section like this\n",
        "# x0 = float(input('Enter Guess: '))\n",
        "# e = float(input('Tolerable Error: '))\n",
        "# N = int(input('Maximum Step: '))\n",
        "# Starting fixed point iteration\n",
        "fixedPointIteration(x0,e,N)"
      ],
      "execution_count": 0,
      "outputs": [
        {
          "output_type": "error",
          "ename": "IndentationError",
          "evalue": "ignored",
          "traceback": [
            "\u001b[0;36m  File \u001b[0;32m\"<ipython-input-3-237887b20824>\"\u001b[0;36m, line \u001b[0;32m5\u001b[0m\n\u001b[0;31m    return x*x*x + x*x -1\u001b[0m\n\u001b[0m         ^\u001b[0m\n\u001b[0;31mIndentationError\u001b[0m\u001b[0;31m:\u001b[0m expected an indented block\n"
          ]
        }
      ]
    },
    {
      "cell_type": "code",
      "metadata": {
        "id": "v2GMCQbzi5QX",
        "colab_type": "code",
        "colab": {}
      },
      "source": [
        "# Defining Function\n",
        "def f(x):\n",
        "return x**3 - 5*x - 9\n",
        "# Defining derivative of function\n",
        "def g(x):\n",
        "return 3*x**2 - 5\n",
        "# Implementing Newton Method\n",
        "def newton(x0,e,N):\n",
        "print('\\n\\n*** NEWTON METHOD IMPLEMENTATION ***')\n",
        "step = 1\n",
        "flag = 1\n",
        "condition = True\n",
        "while condition:\n",
        "if g(x0) == 0.0:\n",
        "print('Divide by zero error!')\n",
        "break\n",
        "x1 = x0 - f(x0)/g(x0)\n",
        "print('Iteration-%d, x1 = %0.6f and f(x1) = %0.6f' % (step, x1, f(x1)))\n",
        "x0 = x1\n",
        "step = step + 1\n",
        "if step > N:\n",
        "flag = 0\n",
        "break\n",
        "condition = abs(f(x1)) > e\n",
        "if flag==1:\n",
        "print('\\nRequired root is: %0.8f' % x1)\n",
        "else:\n",
        "print('\\nNot Convergent.')\n",
        "\n",
        "condition1= abs(f(x1))>e\n",
        "condition2= step<N\n",
        "condition3= abs(xhelp)>ex\n",
        "condition= condition1 and condition2 and condition3  \n",
        "\n",
        "# Input Section\n",
        "x0 = input('Enter Guess: ')\n",
        "e = input('Tolerable Error: ')\n",
        "N = input('Maximum Step: ')\n",
        "# Converting x0 and e to float\n",
        "x0 = float(x0)\n",
        "e = float(e)\n",
        "# Converting N to integer\n",
        "N = int(N)\n",
        "#Note: You can combine above three section like this\n",
        "# x0 = float(input('Enter Guess: '))\n",
        "# e = float(input('Tolerable Error: '))\n",
        "# N = int(input('Maximum Step: '))\n",
        "# Starting Newton Method\n",
        "newton(x0,e,N)"
      ],
      "execution_count": 0,
      "outputs": []
    },
    {
      "cell_type": "code",
      "metadata": {
        "id": "NruBdxRFi5oH",
        "colab_type": "code",
        "colab": {}
      },
      "source": [
        "# Defining Function\n",
        "def f(x):\n",
        "return x**3 - 5*x - 9\n",
        "# Implementing Secant Method\n",
        "def secant(x0,x1,e,N):\n",
        "print('\\n\\n*** SECANT METHOD IMPLEMENTATION ***')\n",
        "step = 1\n",
        "condition = True\n",
        "while condition:\n",
        "if f(x0) == f(x1):\n",
        "print('Divide by zero error!')\n",
        "break\n",
        "x2 = x0 - (x1-x0)*f(x0)/( f(x1) - f(x0) )\n",
        "print('Iteration-%d, x2 = %0.6f and f(x2) = %0.6f' % (step, x2, f(x2)))\n",
        "x0 = x1\n",
        "x1 = x2\n",
        "step = step + 1\n",
        "if step > N:\n",
        "print('Not Convergent!')\n",
        "break\n",
        "condition = abs(f(x2)) > e\n",
        "print('\\n Required root is: %0.8f' % x2)\n",
        "\n",
        "condition1= abs(f(x1))>e\n",
        "condition2= step<N\n",
        "condition3= abs(xhelp)>ex\n",
        "condition= condition1 and condition2 and condition3  \n",
        "\n",
        "# Input Section\n",
        "x0 = input('Enter First Guess: ')\n",
        "x1 = input('Enter Second Guess: ')\n",
        "e = input('Tolerable Error: ')\n",
        "N = input('Maximum Step: ')\n",
        "# Converting x0 and e to float\n",
        "x0 = float(x0)\n",
        "x1 = float(x1)\n",
        "e = float(e)\n",
        "# Converting N to integer\n",
        "N = int(N)\n",
        "#Note: You can combine above three section like this\n",
        "# x0 = float(input('Enter First Guess: '))\n",
        "# x1 = float(input('Enter Second Guess: '))\n",
        "# e = float(input('Tolerable Error: '))\n",
        "# N = int(input('Maximum Step: '))\n",
        "# Starting Secant Method\n",
        "secant(x0,x1,e,N)"
      ],
      "execution_count": 0,
      "outputs": []
    }
  ]
}