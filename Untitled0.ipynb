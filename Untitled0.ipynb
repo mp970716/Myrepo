{
  "nbformat": 4,
  "nbformat_minor": 0,
  "metadata": {
    "colab": {
      "name": "Untitled0.ipynb",
      "provenance": [],
      "collapsed_sections": [],
      "authorship_tag": "ABX9TyOBJRL0w1dRPE4FtgG0fqSj",
      "include_colab_link": true
    },
    "kernelspec": {
      "name": "python3",
      "display_name": "Python 3"
    }
  },
  "cells": [
    {
      "cell_type": "markdown",
      "metadata": {
        "id": "view-in-github",
        "colab_type": "text"
      },
      "source": [
        "<a href=\"https://colab.research.google.com/github/mp970716/Myrepo/blob/master/Untitled0.ipynb\" target=\"_parent\"><img src=\"https://colab.research.google.com/assets/colab-badge.svg\" alt=\"Open In Colab\"/></a>"
      ]
    },
    {
      "cell_type": "code",
      "metadata": {
        "id": "X0f6Sg7ZdIA_",
        "colab_type": "code",
        "outputId": "a83f76c6-013f-49fc-f00f-13eb4d4a271c",
        "colab": {
          "base_uri": "https://localhost:8080/",
          "height": 130
        }
      },
      "source": [
        "# Fixed Point Iteration Method\n",
        "# Importing math to use sqrt function \n",
        "import math\n",
        "def f(x):\n",
        "  return x*x-S\n",
        "# Re-writing f(x)=0 to x=g(x)\n",
        "  def g(x):\n",
        "    return (1/2)*(x+S/x)\n",
        "# Implementing Fixed Point Iteration Method \n",
        "def fixedPointIteration(x0, e, N):\n",
        "  print('\\n\\n***FIXED POINT ITERATION***')\n",
        "  step = 1\n",
        "  flag = 1\n",
        "  condition = True\n",
        "  while condition:\n",
        "    x1= g(x0)\n",
        "    print ('Iteration-%d, x1=%0.6f and f(x1)= %0.6f'% (step, x1, f(x1)))\n",
        "    x0=x1\n",
        "\n",
        "    step=step+1\n",
        "\n",
        "    if step>N:\n",
        "      flag=0\n",
        "      break\n",
        "\n",
        "    condition = abs(f(x1))>e\n",
        "\n",
        "  if flag == 1\n",
        "     print('\\nRequired root is: %0.8f'%x1)\n",
        "     else:\n",
        "    print('\\nNot Convergent.')\n",
        "\n",
        "#Input Section\n",
        "x0= input('Enter Guess: ')\n",
        "e= input ('Tolerable Error:')\n",
        "N= input('Maximum Step:')\n",
        "\n",
        "# Converting x0 and e to float\n",
        "x0=float(x0)\n",
        "e=float(e)\n",
        "\n",
        "# Converting N to integer\n",
        "N=int(N)\n",
        "\n",
        "# Note: You can combine above three section like this\n",
        "# x0= float(input('Enter Guess:'))\n",
        "# e= float(input('Tolerable Error: '))\n",
        "# N= int(input('Maximum Step: '))\n",
        "# Starting fixed point iteration\n",
        "fixexPointInteration(x0, e, N)\n",
        "\n",
        "\n",
        "\n",
        "\n",
        "\n",
        "\n",
        "\n",
        "\n"
      ],
      "execution_count": 0,
      "outputs": [
        {
          "output_type": "error",
          "ename": "SyntaxError",
          "evalue": "ignored",
          "traceback": [
            "\u001b[0;36m  File \u001b[0;32m\"<ipython-input-6-a0e64a8fc159>\"\u001b[0;36m, line \u001b[0;32m28\u001b[0m\n\u001b[0;31m    if flag == 1\u001b[0m\n\u001b[0m                ^\u001b[0m\n\u001b[0;31mSyntaxError\u001b[0m\u001b[0;31m:\u001b[0m invalid syntax\n"
          ]
        }
      ]
    },
    {
      "cell_type": "code",
      "metadata": {
        "id": "eAAbmPRGdP35",
        "colab_type": "code",
        "colab": {}
      },
      "source": [
        ""
      ],
      "execution_count": 0,
      "outputs": []
    }
  ]
}